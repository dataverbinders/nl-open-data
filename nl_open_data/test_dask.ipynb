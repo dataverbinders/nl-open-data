{
 "metadata": {
  "language_info": {
   "codemirror_mode": {
    "name": "ipython",
    "version": 3
   },
   "file_extension": ".py",
   "mimetype": "text/x-python",
   "name": "python",
   "nbconvert_exporter": "python",
   "pygments_lexer": "ipython3",
   "version": "3.8.5-final"
  },
  "orig_nbformat": 2,
  "kernelspec": {
   "name": "python3",
   "display_name": "Python 3",
   "language": "python"
  }
 },
 "nbformat": 4,
 "nbformat_minor": 2,
 "cells": [
  {
   "cell_type": "code",
   "execution_count": 1,
   "metadata": {},
   "outputs": [],
   "source": [
    "from prefect import task, Flow\n",
    "import datetime\n",
    "import random\n",
    "from time import sleep\n",
    "\n",
    "\n",
    "@task\n",
    "def inc(x):\n",
    "    sleep(random.random() / 10)\n",
    "    return x + 1\n",
    "\n",
    "\n",
    "@task\n",
    "def dec(x):\n",
    "    sleep(random.random() / 10)\n",
    "    return x - 1\n",
    "\n",
    "\n",
    "@task\n",
    "def add(x, y):\n",
    "    sleep(random.random() / 10)\n",
    "    return x + y\n",
    "\n",
    "\n",
    "@task(name=\"sum\")\n",
    "def list_sum(arr):\n",
    "    return sum(arr)\n",
    "\n",
    "\n",
    "with Flow(\"dask-example\") as flow:\n",
    "    incs = inc.map(x=range(100))\n",
    "    decs = dec.map(x=range(100))\n",
    "    adds = add.map(x=incs, y=decs)\n",
    "    total = list_sum(adds)"
   ]
  },
  {
   "cell_type": "code",
   "execution_count": 2,
   "metadata": {},
   "outputs": [
    {
     "output_type": "stream",
     "name": "stdout",
     "text": [
      "[2021-02-05 14:27:45+0100] INFO - prefect.FlowRunner | Beginning Flow run for 'dask-example'\n",
      "[2021-02-05 14:27:55+0100] ERROR - prefect.FlowRunner | Unexpected error: OSError('Timed out trying to connect to tcp://10.0.0.41:8786 after 10 s')\n",
      "Traceback (most recent call last):\n",
      "  File \"/Users/tslilstrauss/Projects/nl-open-data/.venv/lib/python3.8/site-packages/distributed/comm/core.py\", line 286, in connect\n",
      "    comm = await asyncio.wait_for(\n",
      "  File \"/Users/tslilstrauss/.pyenv/versions/3.8.5/lib/python3.8/asyncio/tasks.py\", line 490, in wait_for\n",
      "    raise exceptions.TimeoutError()\n",
      "asyncio.exceptions.TimeoutError\n",
      "\n",
      "The above exception was the direct cause of the following exception:\n",
      "\n",
      "Traceback (most recent call last):\n",
      "  File \"/Users/tslilstrauss/Projects/nl-open-data/.venv/lib/python3.8/site-packages/prefect/engine/runner.py\", line 48, in inner\n",
      "    new_state = method(self, state, *args, **kwargs)\n",
      "  File \"/Users/tslilstrauss/Projects/nl-open-data/.venv/lib/python3.8/site-packages/prefect/engine/flow_runner.py\", line 418, in get_flow_run_state\n",
      "    with self.check_for_cancellation(), executor.start():\n",
      "  File \"/Users/tslilstrauss/.pyenv/versions/3.8.5/lib/python3.8/contextlib.py\", line 113, in __enter__\n",
      "    return next(self.gen)\n",
      "  File \"/Users/tslilstrauss/Projects/nl-open-data/.venv/lib/python3.8/site-packages/prefect/executors/dask.py\", line 203, in start\n",
      "    with Client(self.address, **self.client_kwargs) as client:\n",
      "  File \"/Users/tslilstrauss/Projects/nl-open-data/.venv/lib/python3.8/site-packages/distributed/client.py\", line 748, in __init__\n",
      "    self.start(timeout=timeout)\n",
      "  File \"/Users/tslilstrauss/Projects/nl-open-data/.venv/lib/python3.8/site-packages/distributed/client.py\", line 956, in start\n",
      "    sync(self.loop, self._start, **kwargs)\n",
      "  File \"/Users/tslilstrauss/Projects/nl-open-data/.venv/lib/python3.8/site-packages/distributed/utils.py\", line 340, in sync\n",
      "    raise exc.with_traceback(tb)\n",
      "  File \"/Users/tslilstrauss/Projects/nl-open-data/.venv/lib/python3.8/site-packages/distributed/utils.py\", line 324, in f\n",
      "    result[0] = yield future\n",
      "  File \"/Users/tslilstrauss/Projects/nl-open-data/.venv/lib/python3.8/site-packages/tornado/gen.py\", line 762, in run\n",
      "    value = future.result()\n",
      "  File \"/Users/tslilstrauss/Projects/nl-open-data/.venv/lib/python3.8/site-packages/distributed/client.py\", line 1046, in _start\n",
      "    await self._ensure_connected(timeout=timeout)\n",
      "  File \"/Users/tslilstrauss/Projects/nl-open-data/.venv/lib/python3.8/site-packages/distributed/client.py\", line 1103, in _ensure_connected\n",
      "    comm = await connect(\n",
      "  File \"/Users/tslilstrauss/Projects/nl-open-data/.venv/lib/python3.8/site-packages/distributed/comm/core.py\", line 308, in connect\n",
      "    raise IOError(\n",
      "OSError: Timed out trying to connect to tcp://10.0.0.41:8786 after 10 s\n",
      "[2021-02-05 14:27:55+0100] ERROR - prefect.dask-example | Unexpected error occured in FlowRunner: OSError('Timed out trying to connect to tcp://10.0.0.41:8786 after 10 s')\n"
     ]
    },
    {
     "output_type": "execute_result",
     "data": {
      "text/plain": [
       "<Failed: \"Unexpected error: OSError('Timed out trying to connect to tcp://10.0.0.41:8786 after 10 s')\">"
      ]
     },
     "metadata": {},
     "execution_count": 2
    }
   ],
   "source": [
    "from prefect.executors import DaskExecutor\n",
    "\n",
    "executor = DaskExecutor(address=\"tcp://10.0.0.41:8786\")\n",
    "flow.run(executor=executor)"
   ]
  },
  {
   "cell_type": "code",
   "execution_count": 9,
   "metadata": {},
   "outputs": [],
   "source": [
    "from dask.distributed import Client\n",
    "client = Client()"
   ]
  },
  {
   "cell_type": "code",
   "execution_count": null,
   "metadata": {},
   "outputs": [],
   "source": [
    "from bokeh.plotting import figure, output_file, show"
   ]
  }
 ]
}